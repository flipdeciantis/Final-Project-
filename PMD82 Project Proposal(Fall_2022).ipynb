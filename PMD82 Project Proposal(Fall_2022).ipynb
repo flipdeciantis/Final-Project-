{
  "nbformat": 4,
  "nbformat_minor": 0,
  "metadata": {
    "colab": {
      "provenance": [],
      "include_colab_link": true
    },
    "kernelspec": {
      "name": "python3",
      "display_name": "Python 3"
    },
    "language_info": {
      "name": "python"
    }
  },
  "cells": [
    {
      "cell_type": "markdown",
      "metadata": {
        "id": "view-in-github",
        "colab_type": "text"
      },
      "source": [
        "<a href=\"https://colab.research.google.com/github/flipdeciantis/Final-Project-/blob/main/PMD82%20Project%20Proposal(Fall_2022).ipynb\" target=\"_parent\"><img src=\"https://colab.research.google.com/assets/colab-badge.svg\" alt=\"Open In Colab\"/></a>"
      ]
    },
    {
      "cell_type": "markdown",
      "source": [
        "This app is designed to fetch retail sales, GDP data, and a given stock. It also provides a graph with the data overlaid for easy interpretation.\n",
        "\n",
        "\n",
        "\n",
        "\n"
      ],
      "metadata": {
        "id": "QtAKkwW6mex1"
      }
    },
    {
      "cell_type": "markdown",
      "source": [
        "# Functionality Overview"
      ],
      "metadata": {
        "id": "BkJn0WByh7Jx"
      }
    },
    {
      "cell_type": "markdown",
      "source": [
        "\n",
        "\n",
        "\n",
        "We ask the user to input or **select a stock symbol** (i.e. \"NFLX\") using a dropdown menu.\n",
        "\n",
        "\n",
        " A request is made for the current levels of the retail sales, GDP data, and stock price.\n",
        "\n",
        "Finally, we compile the data from all articles and export it to a CSV file for further analysis.\n"
      ],
      "metadata": {
        "id": "V6wchUMeiEtK"
      }
    },
    {
      "cell_type": "markdown",
      "source": [
        "# Information Requirements"
      ],
      "metadata": {
        "id": "fV_oIDIsj3pp"
      }
    },
    {
      "cell_type": "markdown",
      "source": [
        "### Information Inputs\n",
        "\n",
        "  + Selected stock symbol\n",
        "  + API response"
      ],
      "metadata": {
        "id": "lQoXKlwui6Qj"
      }
    },
    {
      "cell_type": "code",
      "source": [],
      "metadata": {
        "id": "gFpHb9ghTTd-"
      },
      "execution_count": null,
      "outputs": []
    },
    {
      "cell_type": "markdown",
      "source": [
        "### Information Outputs\n",
        "\n",
        "  + API request\n",
        "  + Retail sales level\n",
        "  + GDP level\n",
        "  + Stock level\n",
        "  + CSV file export"
      ],
      "metadata": {
        "id": "hQZ4kmlbi6yK"
      }
    },
    {
      "cell_type": "markdown",
      "source": [
        "# Setup / Configuration"
      ],
      "metadata": {
        "id": "j2qTx44T9Wjo"
      }
    },
    {
      "cell_type": "markdown",
      "source": [
        "## API Credentials"
      ],
      "metadata": {
        "id": "W_jIhqQMe8Jy"
      }
    },
    {
      "cell_type": "markdown",
      "source": [
        "\n",
        "To run the app, you first need to first obtain an [AlphaVantage API Key](https://www.alphavantage.co/support/#api-key). A normal key should be fine, but alternatively you can use one of the prof's \"premium\" keys. Once obtained, you will be asked to securely input this API Key via the setup cell below:"
      ],
      "metadata": {
        "id": "7pvBUBGDmgp9"
      }
    },
    {
      "cell_type": "code",
      "source": [
        "#\n",
        "# SETUP CELL (SECURE HANDLING OF SECRET CREDENTIALS)\n",
        "#\n",
        "# Run this cell to ask the user to securely input the API Key.\n",
        "# Since the API Key is a secret credential like a password, \n",
        "# ... we want to avoid hard-coding or exposing it.\n",
        "#\n",
        "\n",
        "from getpass import getpass\n",
        "\n",
        "API_KEY = getpass(\"Please input your AlphaVantage API Key: \")"
      ],
      "metadata": {
        "id": "volez18go4Xw"
      },
      "execution_count": null,
      "outputs": []
    },
    {
      "cell_type": "markdown",
      "source": [
        "# Usage\n"
      ],
      "metadata": {
        "id": "kw8ptl8t4ZqV"
      }
    },
    {
      "cell_type": "markdown",
      "source": [
        "This section will be used to receive the user input of a certain stock. It will read out the most recent stock, GDP, and retail sales numbers. Then it will print a graph of the stock price, GDP, and retail sales over the last year(?). This will provide the user with the ability to analyse the patterns to see if there is any correlation. The app will also provide baseline advice on how to read certain data patterns in the graphs. "
      ],
      "metadata": {
        "id": "CT0T22CItgZn"
      }
    },
    {
      "cell_type": "code",
      "execution_count": 10,
      "metadata": {
        "id": "W2F8prgmh6AY",
        "colab": {
          "base_uri": "https://localhost:8080/"
        },
        "outputId": "99f2cbb6-6fb7-420c-de9a-655f6586faf4"
      },
      "outputs": [
        {
          "output_type": "stream",
          "name": "stdout",
          "text": [
            "GDP REPORT...\n",
            "Please input your ALPHAVANTAGE API KEY: abc123\n",
            "-------------------------\n",
            "LATEST GDP RATE:\n",
            "19609.812 as of 2021-01-01\n",
            "Retail Sales REPORT...\n",
            "Please input your ALPHAVANTAGE API KEY: abc123\n",
            "-------------------------\n",
            "LATEST Retail Sales RATE:\n",
            "597492 as of 2022-10-01\n"
          ]
        }
      ],
      "source": [
        "import requests\n",
        "import json\n",
        "from IPython.display import Image, display \n",
        "\n",
        "\n",
        "def display_feed(symbol=\"NFLX\"):\n",
        "    API_KEY = input(\"Please input your ALPHAVANTAGE API KEY: \")\n",
        "    request_url = f\"https://www.alphavantage.co/query?function=NEWS_SENTIMENT&tickers={symbol}&apikey={API_KEY}\"\n",
        "    \n",
        "    response = requests.get(request_url)\n",
        "\n",
        "    data = json.loads(response.text)\n",
        "    #print(type(data)) #> dict\n",
        "    #print(data.keys())\n",
        "    if \"feed\" not in data.keys():\n",
        "        print(data)\n",
        "        return None\n",
        "\n",
        "def fetch_GDP_data():\n",
        "    \"\"\"Fetches GDP data from the AlphaVantage API. Returns a list of dictionaries.\"\"\"\n",
        "    API_KEY = input(\"Please input your ALPHAVANTAGE API KEY: \")\n",
        "    request_url = f\"https://www.alphavantage.co/query?function=REAL_GDP&apikey={API_KEY}\"\n",
        "\n",
        "    response = requests.get(request_url)\n",
        "\n",
        "    parsed_response = json.loads(response.text)\n",
        "    \n",
        "    return parsed_response[\"data\"]\n",
        "\n",
        "def fetch_RS_data():\n",
        "    \"\"\"Fetches GDP data from the AlphaVantage API. Returns a list of dictionaries.\"\"\"\n",
        "    API_KEY = input(\"Please input your ALPHAVANTAGE API KEY: \")\n",
        "    request_url = f\"https://www.alphavantage.co/query?function=RETAIL_SALES&apikey={API_KEY}\"\n",
        "\n",
        "    response = requests.get(request_url)\n",
        "\n",
        "    parsed_response = json.loads(response.text)\n",
        "    \n",
        "    return parsed_response[\"data\"]\n",
        "\n",
        "\n",
        "if __name__ == \"__main__\":\n",
        "\n",
        "    print(\"GDP REPORT...\")\n",
        "\n",
        "    data = fetch_GDP_data()\n",
        "\n",
        "    print(\"-------------------------\")\n",
        "    print(\"LATEST GDP RATE:\")\n",
        "    print(f\"{data[0]['value']}\", \"as of\", data[0][\"date\"])\n",
        "\n",
        "    print(\"Retail Sales REPORT...\")\n",
        "\n",
        "    data = fetch_RS_data()\n",
        "\n",
        "    print(\"-------------------------\")\n",
        "    print(\"LATEST Retail Sales RATE:\")\n",
        "    print(f\"{data[0]['value']}\", \"as of\", data[0][\"date\"])\n"
      ]
    },
    {
      "cell_type": "code",
      "source": [
        "#@title Stock Selection Form\n",
        "selected_symbol = \"NFLX\"  #@param ['NFLX', 'AAPL', 'GOOG', 'DIS', 'TSLA', 'MSFT']\n",
        "display_feed(selected_symbol)"
      ],
      "metadata": {
        "id": "AgtJahjqgSro"
      },
      "execution_count": null,
      "outputs": []
    },
    {
      "cell_type": "markdown",
      "source": [
        "# Scratch Work (Ungraded)"
      ],
      "metadata": {
        "id": "fJD9rGFys5l2"
      }
    },
    {
      "cell_type": "code",
      "source": [
        "#Figure out a way to overlay the three plots. Since the GDP data is yearly I would have to employ different \"timelines.\" "
      ],
      "metadata": {
        "id": "POPGeRZatsZP"
      },
      "execution_count": null,
      "outputs": []
    },
    {
      "cell_type": "code",
      "source": [],
      "metadata": {
        "id": "OW2ZoErmoaui"
      },
      "execution_count": null,
      "outputs": []
    },
    {
      "cell_type": "code",
      "source": [],
      "metadata": {
        "id": "_HHQNiiioaQA"
      },
      "execution_count": null,
      "outputs": []
    },
    {
      "cell_type": "code",
      "source": [],
      "metadata": {
        "id": "owKEq2THocHD"
      },
      "execution_count": null,
      "outputs": []
    },
    {
      "cell_type": "code",
      "source": [],
      "metadata": {
        "id": "tG9z6-YLob8k"
      },
      "execution_count": null,
      "outputs": []
    },
    {
      "cell_type": "code",
      "source": [],
      "metadata": {
        "id": "q8mBrBhYob0S"
      },
      "execution_count": null,
      "outputs": []
    }
  ]
}