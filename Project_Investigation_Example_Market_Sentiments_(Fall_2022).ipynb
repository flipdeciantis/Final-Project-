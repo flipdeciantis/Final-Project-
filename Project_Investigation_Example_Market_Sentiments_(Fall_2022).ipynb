{
  "nbformat": 4,
  "nbformat_minor": 0,
  "metadata": {
    "colab": {
      "provenance": [],
      "include_colab_link": true
    },
    "kernelspec": {
      "name": "python3",
      "display_name": "Python 3"
    },
    "language_info": {
      "name": "python"
    }
  },
  "cells": [
    {
      "cell_type": "markdown",
      "metadata": {
        "id": "view-in-github",
        "colab_type": "text"
      },
      "source": [
        "<a href=\"https://colab.research.google.com/github/flipdeciantis/Final-Project-/blob/main/Project_Investigation_Example_Market_Sentiments_(Fall_2022).ipynb\" target=\"_parent\"><img src=\"https://colab.research.google.com/assets/colab-badge.svg\" alt=\"Open In Colab\"/></a>"
      ]
    },
    {
      "cell_type": "markdown",
      "source": [
        "# Project Description\n",
        "\n",
        "\n",
        "\n"
      ],
      "metadata": {
        "id": "Orzu6Ticqc5D"
      }
    },
    {
      "cell_type": "markdown",
      "source": [
        "This app fetches market sentiment data about a given company, and displays a news feed of relevant news articles and their sentiment scores. \n",
        "\n",
        "\n",
        "\n",
        "\n"
      ],
      "metadata": {
        "id": "QtAKkwW6mex1"
      }
    },
    {
      "cell_type": "markdown",
      "source": [
        "\n",
        "Specifically, we will use the  AlphaVantage API's [\"Market News and Sentiment\"](https://www.alphavantage.co/documentation/#news-sentiment) endpoint to **request recent news and sentiments** about a given company. \n",
        "\n",
        "> NOTE: we will include news across all categories (i.e. omit topic specification)"
      ],
      "metadata": {
        "id": "AfqHoHor_3ED"
      }
    },
    {
      "cell_type": "markdown",
      "source": [
        "# Functionality Overview"
      ],
      "metadata": {
        "id": "BkJn0WByh7Jx"
      }
    },
    {
      "cell_type": "markdown",
      "source": [
        "\n",
        "\n",
        "\n",
        "We ask the user to input or **select a stock symbol** (i.e. \"NFLX\") using a dropdown menu.\n",
        "\n",
        "\n",
        "We make a request for corresponding market news and sentiments about the specified stock symbol, then process the resulting response data to **display a news feed** which provides the following information about each article:\n",
        "  + **Title**\n",
        "  + **Author** (just the first one)\n",
        "  + **Source** \n",
        "  + **Image** (displayed)\n",
        "  + **Summary**\n",
        "  + **URL**\n",
        "  + **Ticker-Specific Sentiment Score** (for the selected company only)\n",
        "  + **Ticker-specific Sentiment Score** (for the selected company only)\n",
        "\n",
        "Instead of displaying information about all articles, we **only display  information for articles that have a high ticker-specific relevance score** (i.e. those greater than 50%). \n",
        "\n",
        "Finally, we compile the data from all articles and export it to a CSV file for further analysis.\n"
      ],
      "metadata": {
        "id": "V6wchUMeiEtK"
      }
    },
    {
      "cell_type": "markdown",
      "source": [
        "# Information Requirements"
      ],
      "metadata": {
        "id": "fV_oIDIsj3pp"
      }
    },
    {
      "cell_type": "markdown",
      "source": [
        "### Information Inputs\n",
        "\n",
        "  + Selected stock symbol\n",
        "  + API response"
      ],
      "metadata": {
        "id": "lQoXKlwui6Qj"
      }
    },
    {
      "cell_type": "markdown",
      "source": [
        "### Information Outputs\n",
        "\n",
        "  + API request\n",
        "  + Printed news feed content, including displayed images\n",
        "  + CSV file export"
      ],
      "metadata": {
        "id": "hQZ4kmlbi6yK"
      }
    },
    {
      "cell_type": "markdown",
      "source": [
        "# Setup / Configuration"
      ],
      "metadata": {
        "id": "j2qTx44T9Wjo"
      }
    },
    {
      "cell_type": "markdown",
      "source": [
        "## API Credentials"
      ],
      "metadata": {
        "id": "W_jIhqQMe8Jy"
      }
    },
    {
      "cell_type": "markdown",
      "source": [
        "\n",
        "To run the app, you first need to first obtain an [AlphaVantage API Key](https://www.alphavantage.co/support/#api-key). A normal key should be fine, but alternatively you can use one of the prof's \"premium\" keys. Once obtained, you will be asked to securely input this API Key via the setup cell below:"
      ],
      "metadata": {
        "id": "7pvBUBGDmgp9"
      }
    },
    {
      "cell_type": "code",
      "source": [
        "#\n",
        "# SETUP CELL (SECURE HANDLING OF SECRET CREDENTIALS)\n",
        "#\n",
        "# Run this cell to ask the user to securely input the API Key.\n",
        "# Since the API Key is a secret credential like a password, \n",
        "# ... we want to avoid hard-coding or exposing it.\n",
        "#\n",
        "\n",
        "from getpass import getpass\n",
        "\n",
        "API_KEY = getpass(\"Please input your AlphaVantage API Key: \")"
      ],
      "metadata": {
        "id": "volez18go4Xw",
        "colab": {
          "base_uri": "https://localhost:8080/"
        },
        "outputId": "d61a1f8b-2444-4df2-d2c6-85f79e5fc29d"
      },
      "execution_count": null,
      "outputs": [
        {
          "name": "stdout",
          "output_type": "stream",
          "text": [
            "Please input your AlphaVantage API Key: ··········\n"
          ]
        }
      ]
    },
    {
      "cell_type": "markdown",
      "source": [
        "# Usage\n"
      ],
      "metadata": {
        "id": "kw8ptl8t4ZqV"
      }
    },
    {
      "cell_type": "code",
      "execution_count": null,
      "metadata": {
        "id": "W2F8prgmh6AY"
      },
      "outputs": [],
      "source": [
        "import requests\n",
        "import json\n",
        "from IPython.display import Image, display \n",
        "\n",
        "\n",
        "def display_feed(symbol=\"NFLX\"):\n",
        "    request_url = f\"https://www.alphavantage.co/query?function=NEWS_SENTIMENT&tickers={symbol}&apikey={API_KEY}\"\n",
        "    \n",
        "    response = requests.get(request_url)\n",
        "\n",
        "    data = json.loads(response.text)\n",
        "    #print(type(data)) #> dict\n",
        "    #print(data.keys())\n",
        "    if \"feed\" not in data.keys():\n",
        "        print(data)\n",
        "        return None\n",
        "    \n",
        "    counter = 1\n",
        "    for article in data[\"feed\"]:\n",
        "        mention = [ts for ts in article[\"ticker_sentiment\"] if ts[\"ticker\"] == symbol.upper()][0]\n",
        "        sentiment_score = mention[\"ticker_sentiment_score\"]\n",
        "        sentiment_label = mention[\"ticker_sentiment_label\"]\n",
        "        relevance_score = mention[\"relevance_score\"]\n",
        "\n",
        "        # E)\n",
        "        if float(relevance_score) >= 0.5:\n",
        "            print(\"--------------------\")\n",
        "            print(f\"ARTICLE #{counter}\")\n",
        "            \n",
        "            if article[\"banner_image\"]:\n",
        "                display(Image(url=article[\"banner_image\"], height=100))\n",
        "            \n",
        "            print(\"TITLE:\", article[\"title\"])\n",
        "            print(\"SOURCE:\", article[\"source\"])\n",
        "\n",
        "            print(\"RELEVANCE:\", relevance_score)\n",
        "            print(f\"SENTIMENT: {sentiment_score} ({sentiment_label})\")\n",
        "            print(article[\"url\"])\n",
        "            print(article[\"summary\"])\n",
        "            \n",
        "        counter +=1"
      ]
    },
    {
      "cell_type": "code",
      "source": [
        "#@title Stock Selection Form\n",
        "selected_symbol = \"DIS\"  #@param ['NFLX', 'AAPL', 'GOOG', 'DIS', 'TSLA', 'MSFT']\n",
        "display_feed(selected_symbol)"
      ],
      "metadata": {
        "colab": {
          "base_uri": "https://localhost:8080/",
          "height": 504
        },
        "id": "AgtJahjqgSro",
        "outputId": "ec470d8a-06f8-43d6-d8cd-0682d6f411de"
      },
      "execution_count": null,
      "outputs": [
        {
          "output_type": "stream",
          "name": "stdout",
          "text": [
            "--------------------\n",
            "ARTICLE #15\n"
          ]
        },
        {
          "output_type": "display_data",
          "data": {
            "text/html": [
              "<img src=\"https://staticx-tuner.zacks.com/images/articles/main/e2/2103.jpg\" height=\"100\"/>"
            ],
            "text/plain": [
              "<IPython.core.display.Image object>"
            ]
          },
          "metadata": {}
        },
        {
          "output_type": "stream",
          "name": "stdout",
          "text": [
            "TITLE: Company News for Oct 24, 2022\n",
            "SOURCE: Zacks Commentary\n",
            "RELEVANCE: 0.582526\n",
            "SENTIMENT: 0.842331 (Bullish)\n",
            "https://www.zacks.com/stock/news/1996142/company-news-for-oct-24-2022\n",
            "Companies in The News Are: AXP, SLB, DIS, ...\n",
            "--------------------\n",
            "ARTICLE #39\n"
          ]
        },
        {
          "output_type": "display_data",
          "data": {
            "text/html": [
              "<img src=\"https://g.foolcdn.com/misc-assets/hp-sa-cumulative-growth-chart.png\" height=\"100\"/>"
            ],
            "text/plain": [
              "<IPython.core.display.Image object>"
            ]
          },
          "metadata": {}
        },
        {
          "output_type": "stream",
          "name": "stdout",
          "text": [
            "TITLE: DraftKings Jumps After Reportedly Scoring Deal With ESPN\n",
            "SOURCE: Motley Fool\n",
            "RELEVANCE: 0.885652\n",
            "SENTIMENT: 0.846332 (Bullish)\n",
            "https://www.fool.com/investing/2022/10/10/draftkings-jumps-after-reportedly-scoring-deal-wit/\n",
            "ESPN reaches hundreds of millions of sports fans, a critical demographic for DraftKings' services.\n"
          ]
        }
      ]
    },
    {
      "cell_type": "markdown",
      "source": [
        "# Scratch Work (Ungraded)"
      ],
      "metadata": {
        "id": "fJD9rGFys5l2"
      }
    },
    {
      "cell_type": "markdown",
      "source": [
        "## Image Display Examples"
      ],
      "metadata": {
        "id": "Hfym3t4fe4MB"
      }
    },
    {
      "cell_type": "code",
      "source": [
        "\n",
        "from IPython.display import Image, display \n",
        "\n",
        "print(\"-----------\")\n",
        "print(\"EXAMPLE IMAGES:\")\n",
        "\n",
        "print(\"-----------\")\n",
        "image_url = \"https://upload.wikimedia.org/wikipedia/commons/thumb/9/9f/Georgetown_Hoyas_logo.svg/64px-Georgetown_Hoyas_logo.svg.png\"\n",
        "display(Image(url=image_url, height=100))\n",
        "\n",
        "print(\"-----------\")\n",
        "display(Image(url=\"https://www.python.org/static/community_logos/python-powered-w-200x80.png\"))\n",
        "\n",
        "print(\"-----------\")\n",
        "display(Image(url=\"https://banner2.cleanpng.com/20190914/tca/transparent-market-icon-news-icon-newspaper-icon-5d7ce8e6009aa0.6164315815684671740025.jpg\", height=100))"
      ],
      "metadata": {
        "colab": {
          "base_uri": "https://localhost:8080/",
          "height": 397
        },
        "id": "ulzFsX9mn4rP",
        "outputId": "a6e415f2-1a30-444e-b9fc-ff5cffe6b8cb"
      },
      "execution_count": null,
      "outputs": [
        {
          "output_type": "stream",
          "name": "stdout",
          "text": [
            "-----------\n",
            "EXAMPLE IMAGES:\n",
            "-----------\n"
          ]
        },
        {
          "output_type": "display_data",
          "data": {
            "text/html": [
              "<img src=\"https://upload.wikimedia.org/wikipedia/commons/thumb/9/9f/Georgetown_Hoyas_logo.svg/64px-Georgetown_Hoyas_logo.svg.png\" height=\"100\"/>"
            ],
            "text/plain": [
              "<IPython.core.display.Image object>"
            ]
          },
          "metadata": {}
        },
        {
          "output_type": "stream",
          "name": "stdout",
          "text": [
            "-----------\n"
          ]
        },
        {
          "output_type": "display_data",
          "data": {
            "text/html": [
              "<img src=\"https://www.python.org/static/community_logos/python-powered-w-200x80.png\"/>"
            ],
            "text/plain": [
              "<IPython.core.display.Image object>"
            ]
          },
          "metadata": {}
        },
        {
          "output_type": "stream",
          "name": "stdout",
          "text": [
            "-----------\n"
          ]
        },
        {
          "output_type": "display_data",
          "data": {
            "text/html": [
              "<img src=\"https://banner2.cleanpng.com/20190914/tca/transparent-market-icon-news-icon-newspaper-icon-5d7ce8e6009aa0.6164315815684671740025.jpg\" height=\"100\"/>"
            ],
            "text/plain": [
              "<IPython.core.display.Image object>"
            ]
          },
          "metadata": {}
        }
      ]
    },
    {
      "cell_type": "markdown",
      "source": [
        "## Practice Fetching Data"
      ],
      "metadata": {
        "id": "8Z1VnvdZckJJ"
      }
    },
    {
      "cell_type": "code",
      "source": [
        "from pprint import pprint\n",
        "\n",
        "# request_url = \"https://www.alphavantage.co/query?function=NEWS_SENTIMENT&tickers=TODO&apikey=TODO\"\n",
        "\n",
        "symbol = \"NFLX\"\n",
        "request_url = f\"https://www.alphavantage.co/query?function=NEWS_SENTIMENT&tickers={symbol}&apikey={API_KEY}\"\n",
        "    \n",
        "response = requests.get(request_url)\n",
        "\n",
        "data = json.loads(response.text)\n",
        "print(type(data))\n",
        "print(data.keys())"
      ],
      "metadata": {
        "id": "johEn5Gls4F0",
        "colab": {
          "base_uri": "https://localhost:8080/"
        },
        "outputId": "254ae18d-a4e9-45fc-a0d0-b7e61080dbff"
      },
      "execution_count": null,
      "outputs": [
        {
          "output_type": "stream",
          "name": "stdout",
          "text": [
            "<class 'dict'>\n",
            "dict_keys(['items', 'sentiment_score_definition', 'relevance_score_definition', 'feed'])\n"
          ]
        }
      ]
    },
    {
      "cell_type": "code",
      "source": [
        "print(\"ARTICLE #1:\")\n",
        "pprint(data[\"feed\"][0])"
      ],
      "metadata": {
        "id": "hdt37mhatYJZ",
        "colab": {
          "base_uri": "https://localhost:8080/"
        },
        "outputId": "4510b2eb-d832-4fbc-ee8f-5828288a0206"
      },
      "execution_count": null,
      "outputs": [
        {
          "output_type": "stream",
          "name": "stdout",
          "text": [
            "ARTICLE #1:\n",
            "{'authors': [],\n",
            " 'banner_image': 'https://stocknews.com/wp-content/uploads/2022/06/shutterstock_2141093553-scaled.jpg',\n",
            " 'category_within_source': 'n/a',\n",
            " 'overall_sentiment_label': 'Somewhat-Bullish',\n",
            " 'overall_sentiment_score': 0.274916,\n",
            " 'source': 'Stocknews.com',\n",
            " 'source_domain': 'stocknews.com',\n",
            " 'summary': 'As widely expected, the Fed has raised interest rates by 75 basis '\n",
            "            'points for the fourth consecutive time today. While the central '\n",
            "            'bank intends to reduce the pace in the future, the market '\n",
            "            'volatility is not expected to ease anytime soon, with recession '\n",
            "            'worries remaining intense.',\n",
            " 'ticker_sentiment': [{'relevance_score': '0.048919',\n",
            "                       'ticker': 'IT',\n",
            "                       'ticker_sentiment_label': 'Somewhat-Bullish',\n",
            "                       'ticker_sentiment_score': '0.330426'},\n",
            "                      {'relevance_score': '0.146025',\n",
            "                       'ticker': 'NFLX',\n",
            "                       'ticker_sentiment_label': 'Somewhat-Bullish',\n",
            "                       'ticker_sentiment_score': '0.24293'},\n",
            "                      {'relevance_score': '0.146025',\n",
            "                       'ticker': 'ANGI',\n",
            "                       'ticker_sentiment_label': 'Somewhat-Bullish',\n",
            "                       'ticker_sentiment_score': '0.199053'},\n",
            "                      {'relevance_score': '0.642555',\n",
            "                       'ticker': 'WMT',\n",
            "                       'ticker_sentiment_label': 'Bullish',\n",
            "                       'ticker_sentiment_score': '0.358251'}],\n",
            " 'time_published': '20221102T194922',\n",
            " 'title': 'WMT: 2 Undervalued Stocks to Buy Before Wall Street Catches On',\n",
            " 'topics': [{'relevance_score': '0.158519', 'topic': 'Economy - Monetary'},\n",
            "            {'relevance_score': '0.998356', 'topic': 'Financial Markets'},\n",
            "            {'relevance_score': '0.992549', 'topic': 'Earnings'},\n",
            "            {'relevance_score': '1.0', 'topic': 'Retail & Wholesale'}],\n",
            " 'url': 'https://stocknews.com/news/wmt-it-2-undervalued-stocks-to-buy-before-wall-street-catches-on/'}\n"
          ]
        }
      ]
    },
    {
      "cell_type": "code",
      "source": [],
      "metadata": {
        "id": "POPGeRZatsZP"
      },
      "execution_count": null,
      "outputs": []
    },
    {
      "cell_type": "code",
      "source": [],
      "metadata": {
        "id": "OW2ZoErmoaui"
      },
      "execution_count": null,
      "outputs": []
    },
    {
      "cell_type": "code",
      "source": [],
      "metadata": {
        "id": "_HHQNiiioaQA"
      },
      "execution_count": null,
      "outputs": []
    },
    {
      "cell_type": "markdown",
      "source": [
        "## Practice Crunching the Data"
      ],
      "metadata": {
        "id": "9BrAqPb_nHxn"
      }
    },
    {
      "cell_type": "markdown",
      "source": [
        "The `mentions` variable below represents a specific part of the structure of each article (i.e. the article dictionary's `ticker_sentiment` key). In this section, we practice working with an example verson of this structure."
      ],
      "metadata": {
        "id": "ocfSSZ7snjtc"
      }
    },
    {
      "cell_type": "code",
      "source": [
        "\n",
        "# NOTE: these items represent companies mentioned in a given article\n",
        "# ... `ticker` identifies the company mentioned\n",
        "# ... `relevance_score` represents how relevant a mention it was (higher scores are more relevant)\n",
        "# ... `ticker_sentiment_score` reperesents what that article thought about the given company (higher scores are more positive)\n",
        "# ... `ticker_sentiment_label` describes the sentiment score\n",
        "\n",
        "mentions = [\n",
        "    {\n",
        "        \"ticker\": \"CCZ\",\n",
        "        \"relevance_score\": \"0.062434\",\n",
        "        \"ticker_sentiment_score\": \"0.148087\",\n",
        "        \"ticker_sentiment_label\": \"Neutral\"\n",
        "    },\n",
        "    {\n",
        "        \"ticker\": \"NFLX\",\n",
        "        \"relevance_score\": \"0.185781\",\n",
        "        \"ticker_sentiment_score\": \"0.167015\",\n",
        "        \"ticker_sentiment_label\": \"Somewhat-Bullish\"\n",
        "    },\n",
        "    {\n",
        "        \"ticker\": \"AAPL\",\n",
        "        \"relevance_score\": \"0.185781\",\n",
        "        \"ticker_sentiment_score\": \"0.167015\",\n",
        "        \"ticker_sentiment_label\": \"Somewhat-Bullish\"\n",
        "    },\n",
        "    {\n",
        "        \"ticker\": \"DIS\",\n",
        "        \"relevance_score\": \"0.124486\",\n",
        "        \"ticker_sentiment_score\": \"0.170737\",\n",
        "        \"ticker_sentiment_label\": \"Somewhat-Bullish\"\n",
        "    },\n",
        "    {\n",
        "        \"ticker\": \"WBD\",\n",
        "        \"relevance_score\": \"0.062434\",\n",
        "        \"ticker_sentiment_score\": \"0.148087\",\n",
        "        \"ticker_sentiment_label\": \"Neutral\"\n",
        "    }\n",
        "]"
      ],
      "metadata": {
        "id": "GW8jEGC0nVuO"
      },
      "execution_count": null,
      "outputs": []
    },
    {
      "cell_type": "code",
      "source": [
        "\n",
        "# A) Print the number of companies mentioned in the article (i.e. the number of items, or 5)\n",
        "\n",
        "print(len(mentions))"
      ],
      "metadata": {
        "colab": {
          "base_uri": "https://localhost:8080/"
        },
        "id": "IzElF8ycnbBs",
        "outputId": "0e7b1795-520c-4476-a0ee-cf1fd559c3bf"
      },
      "execution_count": null,
      "outputs": [
        {
          "output_type": "stream",
          "name": "stdout",
          "text": [
            "5\n"
          ]
        }
      ]
    },
    {
      "cell_type": "code",
      "source": [
        "# B) Print the ticker symbol, and the sentiment score and label for Netflix only (i.e. \"NFLX\")\n",
        "\n",
        "for m in mentions:\n",
        "    if m[\"ticker\"] == \"NFLX\":\n",
        "        print(m[\"ticker_sentiment_score\"], m[\"ticker_sentiment_label\"])"
      ],
      "metadata": {
        "colab": {
          "base_uri": "https://localhost:8080/"
        },
        "id": "dKOXE4Wwnco6",
        "outputId": "b5df8249-6174-46f7-82b9-588467d8ac35"
      },
      "execution_count": null,
      "outputs": [
        {
          "output_type": "stream",
          "name": "stdout",
          "text": [
            "0.167015 Somewhat-Bullish\n"
          ]
        }
      ]
    },
    {
      "cell_type": "code",
      "source": [
        "# C) Print the ticker symbol, and the sentiment score and label \n",
        "# ... for only those companies mentioned with a relevance score greater than 0.1 \n",
        "# ... (i.e. info for \"NFLX\", \"AAPL\", and \"DIS\" only).\n",
        "\n",
        "for m in mentions:\n",
        "    if float(m[\"relevance_score\"]) > 0.1:\n",
        "        print(m[\"ticker\"], m[\"ticker_sentiment_score\"], m[\"ticker_sentiment_label\"])\n"
      ],
      "metadata": {
        "colab": {
          "base_uri": "https://localhost:8080/"
        },
        "id": "cwdK2zXbnePT",
        "outputId": "af6ae7e1-1ef3-4585-d93f-ee443fa35af1"
      },
      "execution_count": null,
      "outputs": [
        {
          "output_type": "stream",
          "name": "stdout",
          "text": [
            "NFLX 0.167015 Somewhat-Bullish\n",
            "AAPL 0.167015 Somewhat-Bullish\n",
            "DIS 0.170737 Somewhat-Bullish\n"
          ]
        }
      ]
    },
    {
      "cell_type": "code",
      "source": [
        "from operator import itemgetter\n",
        "\n",
        "sorted_mentions = sorted(mentions, key=itemgetter(\"ticker_sentiment_score\"), reverse=True)\n",
        "\n",
        "for m in sorted_mentions:\n",
        "    if float(m[\"relevance_score\"]) > 0.1:\n",
        "        print(m[\"ticker\"], m[\"ticker_sentiment_score\"], m[\"ticker_sentiment_label\"])\n"
      ],
      "metadata": {
        "colab": {
          "base_uri": "https://localhost:8080/"
        },
        "id": "cXr5kBgYnf6P",
        "outputId": "0e5436a2-9b90-4b73-98dd-3898eed3ba5c"
      },
      "execution_count": null,
      "outputs": [
        {
          "output_type": "stream",
          "name": "stdout",
          "text": [
            "DIS 0.170737 Somewhat-Bullish\n",
            "NFLX 0.167015 Somewhat-Bullish\n",
            "AAPL 0.167015 Somewhat-Bullish\n"
          ]
        }
      ]
    },
    {
      "cell_type": "code",
      "source": [],
      "metadata": {
        "id": "owKEq2THocHD"
      },
      "execution_count": null,
      "outputs": []
    },
    {
      "cell_type": "code",
      "source": [],
      "metadata": {
        "id": "tG9z6-YLob8k"
      },
      "execution_count": null,
      "outputs": []
    },
    {
      "cell_type": "code",
      "source": [],
      "metadata": {
        "id": "q8mBrBhYob0S"
      },
      "execution_count": null,
      "outputs": []
    }
  ]
}